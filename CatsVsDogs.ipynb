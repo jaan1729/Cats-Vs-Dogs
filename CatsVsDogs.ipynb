{
  "nbformat": 4,
  "nbformat_minor": 0,
  "metadata": {
    "colab": {
      "name": "CatsVsDogs.ipynb",
      "provenance": [],
      "collapsed_sections": [],
      "authorship_tag": "ABX9TyMGWSuNe8Zsr1gkTwQ3cXG9"
    },
    "kernelspec": {
      "name": "python3",
      "display_name": "Python 3"
    },
    "accelerator": "TPU"
  },
  "cells": [
    {
      "cell_type": "code",
      "metadata": {
        "id": "zHOtKAYojF9M",
        "colab_type": "code",
        "colab": {}
      },
      "source": [
        "from tensorflow.keras.datasets import mnist\n",
        "from tensorflow.keras.models import Sequential\n",
        "from tensorflow.keras.layers import Conv2D, Dense, Flatten, MaxPooling2D"
      ],
      "execution_count": 0,
      "outputs": []
    },
    {
      "cell_type": "code",
      "metadata": {
        "colab_type": "code",
        "id": "xZ8XqHcrW5Hq",
        "colab": {}
      },
      "source": [
        "!mkdir .kaggle"
      ],
      "execution_count": 0,
      "outputs": []
    },
    {
      "cell_type": "code",
      "metadata": {
        "colab_type": "code",
        "id": "s6ICWnvpW4lx",
        "colab": {}
      },
      "source": [
        "!cp kaggle.json .kaggle"
      ],
      "execution_count": 0,
      "outputs": []
    },
    {
      "cell_type": "code",
      "metadata": {
        "colab_type": "code",
        "id": "onAeNnMQW3_8",
        "colab": {}
      },
      "source": [
        "!mv .kaggle /root/"
      ],
      "execution_count": 0,
      "outputs": []
    },
    {
      "cell_type": "code",
      "metadata": {
        "id": "IQZdgQs5UuNq",
        "colab_type": "code",
        "colab": {}
      },
      "source": [
        "!chmod 600 ~/.kaggle/kaggle.json"
      ],
      "execution_count": 0,
      "outputs": []
    },
    {
      "cell_type": "code",
      "metadata": {
        "id": "eK5eMUswogRE",
        "colab_type": "code",
        "outputId": "d4067f64-2b79-448e-a5df-344d40afdd3b",
        "colab": {
          "base_uri": "https://localhost:8080/",
          "height": 211
        }
      },
      "source": [
        "!kaggle competitions download -c dogs-vs-cats"
      ],
      "execution_count": 0,
      "outputs": [
        {
          "output_type": "stream",
          "text": [
            "Warning: Looks like you're using an outdated API Version, please consider updating (server 1.5.6 / client 1.5.4)\n",
            "Downloading test1.zip to /content\n",
            " 99% 269M/271M [00:02<00:00, 131MB/s]\n",
            "100% 271M/271M [00:02<00:00, 117MB/s]\n",
            "Downloading sampleSubmission.csv to /content\n",
            "  0% 0.00/86.8k [00:00<?, ?B/s]\n",
            "100% 86.8k/86.8k [00:00<00:00, 86.8MB/s]\n",
            "Downloading train.zip to /content\n",
            " 99% 540M/543M [00:04<00:00, 157MB/s]\n",
            "100% 543M/543M [00:04<00:00, 141MB/s]\n"
          ],
          "name": "stdout"
        }
      ]
    },
    {
      "cell_type": "code",
      "metadata": {
        "id": "E1F6_LtABbC-",
        "colab_type": "code",
        "colab": {}
      },
      "source": [
        "import zipfile\n",
        "zip = zipfile.ZipFile('train.zip','r')\n",
        "zip.extractall()"
      ],
      "execution_count": 0,
      "outputs": []
    },
    {
      "cell_type": "code",
      "metadata": {
        "id": "tcmBS5iaAnEg",
        "colab_type": "code",
        "colab": {}
      },
      "source": [
        "import os\n",
        "filenames = os.listdir('train')"
      ],
      "execution_count": 0,
      "outputs": []
    },
    {
      "cell_type": "code",
      "metadata": {
        "id": "EBkofeXTAzz2",
        "colab_type": "code",
        "outputId": "58117ecc-9d19-4aea-a95d-bb8a72d0ad34",
        "colab": {
          "base_uri": "https://localhost:8080/",
          "height": 104
        }
      },
      "source": [
        "filenames[:5]"
      ],
      "execution_count": 0,
      "outputs": [
        {
          "output_type": "execute_result",
          "data": {
            "text/plain": [
              "['cat.11442.jpg',\n",
              " 'cat.6490.jpg',\n",
              " 'dog.6664.jpg',\n",
              " 'cat.3782.jpg',\n",
              " 'cat.637.jpg']"
            ]
          },
          "metadata": {
            "tags": []
          },
          "execution_count": 10
        }
      ]
    },
    {
      "cell_type": "code",
      "metadata": {
        "id": "0YQ4X5ZCA4qb",
        "colab_type": "code",
        "colab": {}
      },
      "source": [
        "catogiries = []\n",
        "for filename in filenames:\n",
        "  if filename.split('.')[0] == 'cat': catogiries.append('0')\n",
        "  elif filename.split('.')[0] == 'dog': catogiries.append('1')"
      ],
      "execution_count": 0,
      "outputs": []
    },
    {
      "cell_type": "code",
      "metadata": {
        "id": "H2GqNjokDLdv",
        "colab_type": "code",
        "colab": {}
      },
      "source": [
        "import pandas\n",
        "train = pandas.DataFrame({'File Name':filenames, \n",
        "                          'Category':catogiries})"
      ],
      "execution_count": 0,
      "outputs": []
    },
    {
      "cell_type": "code",
      "metadata": {
        "id": "P-gqNZI8D0Z7",
        "colab_type": "code",
        "outputId": "39a3586e-7052-45d7-fc51-c1ad51d9a929",
        "colab": {
          "base_uri": "https://localhost:8080/",
          "height": 363
        }
      },
      "source": [
        "train.head(10)"
      ],
      "execution_count": 0,
      "outputs": [
        {
          "output_type": "execute_result",
          "data": {
            "text/html": [
              "<div>\n",
              "<style scoped>\n",
              "    .dataframe tbody tr th:only-of-type {\n",
              "        vertical-align: middle;\n",
              "    }\n",
              "\n",
              "    .dataframe tbody tr th {\n",
              "        vertical-align: top;\n",
              "    }\n",
              "\n",
              "    .dataframe thead th {\n",
              "        text-align: right;\n",
              "    }\n",
              "</style>\n",
              "<table border=\"1\" class=\"dataframe\">\n",
              "  <thead>\n",
              "    <tr style=\"text-align: right;\">\n",
              "      <th></th>\n",
              "      <th>File Name</th>\n",
              "      <th>Category</th>\n",
              "    </tr>\n",
              "  </thead>\n",
              "  <tbody>\n",
              "    <tr>\n",
              "      <th>0</th>\n",
              "      <td>cat.11442.jpg</td>\n",
              "      <td>0</td>\n",
              "    </tr>\n",
              "    <tr>\n",
              "      <th>1</th>\n",
              "      <td>cat.6490.jpg</td>\n",
              "      <td>0</td>\n",
              "    </tr>\n",
              "    <tr>\n",
              "      <th>2</th>\n",
              "      <td>dog.6664.jpg</td>\n",
              "      <td>1</td>\n",
              "    </tr>\n",
              "    <tr>\n",
              "      <th>3</th>\n",
              "      <td>cat.3782.jpg</td>\n",
              "      <td>0</td>\n",
              "    </tr>\n",
              "    <tr>\n",
              "      <th>4</th>\n",
              "      <td>cat.637.jpg</td>\n",
              "      <td>0</td>\n",
              "    </tr>\n",
              "    <tr>\n",
              "      <th>5</th>\n",
              "      <td>dog.3602.jpg</td>\n",
              "      <td>1</td>\n",
              "    </tr>\n",
              "    <tr>\n",
              "      <th>6</th>\n",
              "      <td>cat.10180.jpg</td>\n",
              "      <td>0</td>\n",
              "    </tr>\n",
              "    <tr>\n",
              "      <th>7</th>\n",
              "      <td>dog.11720.jpg</td>\n",
              "      <td>1</td>\n",
              "    </tr>\n",
              "    <tr>\n",
              "      <th>8</th>\n",
              "      <td>cat.3632.jpg</td>\n",
              "      <td>0</td>\n",
              "    </tr>\n",
              "    <tr>\n",
              "      <th>9</th>\n",
              "      <td>dog.3761.jpg</td>\n",
              "      <td>1</td>\n",
              "    </tr>\n",
              "  </tbody>\n",
              "</table>\n",
              "</div>"
            ],
            "text/plain": [
              "       File Name Category\n",
              "0  cat.11442.jpg        0\n",
              "1   cat.6490.jpg        0\n",
              "2   dog.6664.jpg        1\n",
              "3   cat.3782.jpg        0\n",
              "4    cat.637.jpg        0\n",
              "5   dog.3602.jpg        1\n",
              "6  cat.10180.jpg        0\n",
              "7  dog.11720.jpg        1\n",
              "8   cat.3632.jpg        0\n",
              "9   dog.3761.jpg        1"
            ]
          },
          "metadata": {
            "tags": []
          },
          "execution_count": 45
        }
      ]
    },
    {
      "cell_type": "code",
      "metadata": {
        "id": "TD1cow2YD5rw",
        "colab_type": "code",
        "colab": {}
      },
      "source": [
        "from tensorflow.keras.models import Sequential\n",
        "from tensorflow.keras.layers import Conv2D, Dense, MaxPooling2D, Flatten\n",
        "model = Sequential()\n",
        "model.add(Conv2D(32,(3,3),activation= 'relu',input_shape = (150,150,3)))\n",
        "model.add(MaxPooling2D((2,2)))\n",
        "model.add(Conv2D(64,(3,3),activation = 'relu'))\n",
        "model.add(MaxPooling2D((2,2)))\n",
        "model.add(Conv2D(128,(3,3),activation = 'relu'))\n",
        "model.add(MaxPooling2D((2,2)))\n",
        "model.add(Conv2D(128,(3,3),activation = 'relu'))\n",
        "model.add(MaxPooling2D((2,2)))\n",
        "model.add(Flatten())\n",
        "model.add(Dense(512,activation= 'relu'))\n",
        "model.add(Dense(1,activation='sigmoid'))"
      ],
      "execution_count": 0,
      "outputs": []
    },
    {
      "cell_type": "code",
      "metadata": {
        "id": "GdD5TzwNHR7A",
        "colab_type": "code",
        "outputId": "a0685dd8-c04b-492c-a945-495a6e40ac77",
        "colab": {
          "base_uri": "https://localhost:8080/",
          "height": 538
        }
      },
      "source": [
        "model.summary()"
      ],
      "execution_count": 0,
      "outputs": [
        {
          "output_type": "stream",
          "text": [
            "Model: \"sequential_1\"\n",
            "_________________________________________________________________\n",
            "Layer (type)                 Output Shape              Param #   \n",
            "=================================================================\n",
            "conv2d_4 (Conv2D)            (None, 148, 148, 32)      896       \n",
            "_________________________________________________________________\n",
            "max_pooling2d_4 (MaxPooling2 (None, 74, 74, 32)        0         \n",
            "_________________________________________________________________\n",
            "conv2d_5 (Conv2D)            (None, 72, 72, 64)        18496     \n",
            "_________________________________________________________________\n",
            "max_pooling2d_5 (MaxPooling2 (None, 36, 36, 64)        0         \n",
            "_________________________________________________________________\n",
            "conv2d_6 (Conv2D)            (None, 34, 34, 128)       73856     \n",
            "_________________________________________________________________\n",
            "max_pooling2d_6 (MaxPooling2 (None, 17, 17, 128)       0         \n",
            "_________________________________________________________________\n",
            "conv2d_7 (Conv2D)            (None, 15, 15, 128)       147584    \n",
            "_________________________________________________________________\n",
            "max_pooling2d_7 (MaxPooling2 (None, 7, 7, 128)         0         \n",
            "_________________________________________________________________\n",
            "flatten_1 (Flatten)          (None, 6272)              0         \n",
            "_________________________________________________________________\n",
            "dense_2 (Dense)              (None, 512)               3211776   \n",
            "_________________________________________________________________\n",
            "dense_3 (Dense)              (None, 1)                 513       \n",
            "=================================================================\n",
            "Total params: 3,453,121\n",
            "Trainable params: 3,453,121\n",
            "Non-trainable params: 0\n",
            "_________________________________________________________________\n"
          ],
          "name": "stdout"
        }
      ]
    },
    {
      "cell_type": "code",
      "metadata": {
        "id": "isazuhVqHZgc",
        "colab_type": "code",
        "colab": {}
      },
      "source": [
        "model.compile(loss='binary_crossentropy', optimizer='rmsprop', metrics = ['acc'])"
      ],
      "execution_count": 0,
      "outputs": []
    },
    {
      "cell_type": "code",
      "metadata": {
        "id": "jsZOdzDzMyI-",
        "colab_type": "code",
        "colab": {}
      },
      "source": [
        "from sklearn.model_selection import train_test_split\n",
        "train_data, valid_data = train_test_split(train.iloc[:2500],test_size = 0.2, random_state = 42)"
      ],
      "execution_count": 0,
      "outputs": []
    },
    {
      "cell_type": "code",
      "metadata": {
        "id": "5yMXKZ_xQzCW",
        "colab_type": "code",
        "outputId": "2f078cad-ad4d-4236-f30c-878488b8f801",
        "colab": {
          "base_uri": "https://localhost:8080/",
          "height": 424
        }
      },
      "source": [
        "train_data.reset_index(drop=True)\n",
        "valid_data.reset_index(drop=True)"
      ],
      "execution_count": 0,
      "outputs": [
        {
          "output_type": "execute_result",
          "data": {
            "text/html": [
              "<div>\n",
              "<style scoped>\n",
              "    .dataframe tbody tr th:only-of-type {\n",
              "        vertical-align: middle;\n",
              "    }\n",
              "\n",
              "    .dataframe tbody tr th {\n",
              "        vertical-align: top;\n",
              "    }\n",
              "\n",
              "    .dataframe thead th {\n",
              "        text-align: right;\n",
              "    }\n",
              "</style>\n",
              "<table border=\"1\" class=\"dataframe\">\n",
              "  <thead>\n",
              "    <tr style=\"text-align: right;\">\n",
              "      <th></th>\n",
              "      <th>File Name</th>\n",
              "      <th>Category</th>\n",
              "    </tr>\n",
              "  </thead>\n",
              "  <tbody>\n",
              "    <tr>\n",
              "      <th>0</th>\n",
              "      <td>dog.11071.jpg</td>\n",
              "      <td>1</td>\n",
              "    </tr>\n",
              "    <tr>\n",
              "      <th>1</th>\n",
              "      <td>dog.8322.jpg</td>\n",
              "      <td>1</td>\n",
              "    </tr>\n",
              "    <tr>\n",
              "      <th>2</th>\n",
              "      <td>cat.11770.jpg</td>\n",
              "      <td>0</td>\n",
              "    </tr>\n",
              "    <tr>\n",
              "      <th>3</th>\n",
              "      <td>cat.5707.jpg</td>\n",
              "      <td>0</td>\n",
              "    </tr>\n",
              "    <tr>\n",
              "      <th>4</th>\n",
              "      <td>dog.10878.jpg</td>\n",
              "      <td>1</td>\n",
              "    </tr>\n",
              "    <tr>\n",
              "      <th>...</th>\n",
              "      <td>...</td>\n",
              "      <td>...</td>\n",
              "    </tr>\n",
              "    <tr>\n",
              "      <th>495</th>\n",
              "      <td>dog.6241.jpg</td>\n",
              "      <td>1</td>\n",
              "    </tr>\n",
              "    <tr>\n",
              "      <th>496</th>\n",
              "      <td>dog.4599.jpg</td>\n",
              "      <td>1</td>\n",
              "    </tr>\n",
              "    <tr>\n",
              "      <th>497</th>\n",
              "      <td>cat.8945.jpg</td>\n",
              "      <td>0</td>\n",
              "    </tr>\n",
              "    <tr>\n",
              "      <th>498</th>\n",
              "      <td>cat.3092.jpg</td>\n",
              "      <td>0</td>\n",
              "    </tr>\n",
              "    <tr>\n",
              "      <th>499</th>\n",
              "      <td>cat.5057.jpg</td>\n",
              "      <td>0</td>\n",
              "    </tr>\n",
              "  </tbody>\n",
              "</table>\n",
              "<p>500 rows × 2 columns</p>\n",
              "</div>"
            ],
            "text/plain": [
              "         File Name Category\n",
              "0    dog.11071.jpg        1\n",
              "1     dog.8322.jpg        1\n",
              "2    cat.11770.jpg        0\n",
              "3     cat.5707.jpg        0\n",
              "4    dog.10878.jpg        1\n",
              "..             ...      ...\n",
              "495   dog.6241.jpg        1\n",
              "496   dog.4599.jpg        1\n",
              "497   cat.8945.jpg        0\n",
              "498   cat.3092.jpg        0\n",
              "499   cat.5057.jpg        0\n",
              "\n",
              "[500 rows x 2 columns]"
            ]
          },
          "metadata": {
            "tags": []
          },
          "execution_count": 56
        }
      ]
    },
    {
      "cell_type": "code",
      "metadata": {
        "id": "Bbctg6gDH56p",
        "colab_type": "code",
        "outputId": "0266ec34-f808-44b8-ad48-acea74c6f8aa",
        "colab": {
          "base_uri": "https://localhost:8080/",
          "height": 52
        }
      },
      "source": [
        "from tensorflow.keras.preprocessing.image import ImageDataGenerator\n",
        "train_datagen = ImageDataGenerator(rescale = 1./255)\n",
        "train_generator = train_datagen.flow_from_dataframe(train_data, 'train/',x_col = 'File Name', y_col = 'Category', target_size = (150,150), batch_size = 20, class_mode = 'binary')\n",
        "generator = train_datagen.flow_from_dataframe(train_data, 'train/',x_col = 'File Name', y_col = 'Category', target_size = (150,150), batch_size = 20, class_mode = 'categorical')"
      ],
      "execution_count": 0,
      "outputs": [
        {
          "output_type": "stream",
          "text": [
            "Found 2000 validated image filenames belonging to 2 classes.\n",
            "Found 2000 validated image filenames belonging to 2 classes.\n"
          ],
          "name": "stdout"
        }
      ]
    },
    {
      "cell_type": "code",
      "metadata": {
        "id": "Je5xURPLk-Nx",
        "colab_type": "code",
        "colab": {}
      },
      "source": [
        "generator.next()"
      ],
      "execution_count": 0,
      "outputs": []
    },
    {
      "cell_type": "code",
      "metadata": {
        "id": "hBt7tYf-OMEh",
        "colab_type": "code",
        "outputId": "381c4f93-0a26-43b5-d26e-539c4b578664",
        "colab": {
          "base_uri": "https://localhost:8080/",
          "height": 34
        }
      },
      "source": [
        "test_datagen = ImageDataGenerator(rescale=1./255)\n",
        "valid_generator = test_datagen.flow_from_dataframe(valid_data,'train/',x_col='File Name', y_col = 'Category', target_size = (150,150), batch_size = 20,class_mode = 'binary')"
      ],
      "execution_count": 0,
      "outputs": [
        {
          "output_type": "stream",
          "text": [
            "Found 500 validated image filenames belonging to 2 classes.\n"
          ],
          "name": "stdout"
        }
      ]
    },
    {
      "cell_type": "code",
      "metadata": {
        "id": "0UuwNZxCR-Fh",
        "colab_type": "code",
        "outputId": "e27401ab-4c78-4941-b7d5-d82523b3b7f6",
        "colab": {
          "base_uri": "https://localhost:8080/",
          "height": 34
        }
      },
      "source": [
        "train.shape, train_data.shape, valid_data.shape"
      ],
      "execution_count": 0,
      "outputs": [
        {
          "output_type": "execute_result",
          "data": {
            "text/plain": [
              "((25000, 2), (2000, 2), (500, 2))"
            ]
          },
          "metadata": {
            "tags": []
          },
          "execution_count": 66
        }
      ]
    },
    {
      "cell_type": "code",
      "metadata": {
        "id": "m5NMet2BkuSI",
        "colab_type": "code",
        "outputId": "a5050895-a0a0-4df5-96a7-28971d49f410",
        "colab": {
          "base_uri": "https://localhost:8080/",
          "height": 34
        }
      },
      "source": [
        "train_data.Category.shape"
      ],
      "execution_count": 0,
      "outputs": [
        {
          "output_type": "execute_result",
          "data": {
            "text/plain": [
              "(2000,)"
            ]
          },
          "metadata": {
            "tags": []
          },
          "execution_count": 61
        }
      ]
    },
    {
      "cell_type": "code",
      "metadata": {
        "id": "ClQoRs_NTfep",
        "colab_type": "code",
        "outputId": "224afcfc-f333-4053-8b12-feb3edaee601",
        "colab": {
          "base_uri": "https://localhost:8080/",
          "height": 558
        }
      },
      "source": [
        "history = model.fit_generator(train_generator, epochs = 10, steps_per_epoch=100, validation_data=valid_generator, validation_steps=50)"
      ],
      "execution_count": 0,
      "outputs": [
        {
          "output_type": "stream",
          "text": [
            "Epoch 1/10\n",
            " 99/100 [============================>.] - ETA: 0s - loss: 0.6048 - acc: 0.6944Epoch 1/10\n",
            "100/100 [==============================] - 107s 1s/step - loss: 0.6048 - acc: 0.6940 - val_loss: 0.5895 - val_acc: 0.6920\n",
            "Epoch 2/10\n",
            " 99/100 [============================>.] - ETA: 0s - loss: 0.5393 - acc: 0.7343Epoch 1/10\n",
            "100/100 [==============================] - 106s 1s/step - loss: 0.5385 - acc: 0.7350 - val_loss: 0.6022 - val_acc: 0.6800\n",
            "Epoch 3/10\n",
            " 99/100 [============================>.] - ETA: 0s - loss: 0.5103 - acc: 0.7561Epoch 1/10\n",
            "100/100 [==============================] - 106s 1s/step - loss: 0.5123 - acc: 0.7550 - val_loss: 0.5448 - val_acc: 0.7340\n",
            "Epoch 4/10\n",
            " 99/100 [============================>.] - ETA: 0s - loss: 0.4665 - acc: 0.7788Epoch 1/10\n",
            "100/100 [==============================] - 106s 1s/step - loss: 0.4679 - acc: 0.7775 - val_loss: 0.5341 - val_acc: 0.7400\n",
            "Epoch 5/10\n",
            " 99/100 [============================>.] - ETA: 0s - loss: 0.4187 - acc: 0.8025Epoch 1/10\n",
            "100/100 [==============================] - 107s 1s/step - loss: 0.4182 - acc: 0.8025 - val_loss: 0.7435 - val_acc: 0.7180\n",
            "Epoch 6/10\n",
            " 99/100 [============================>.] - ETA: 0s - loss: 0.3851 - acc: 0.8293Epoch 1/10\n",
            "100/100 [==============================] - 106s 1s/step - loss: 0.3846 - acc: 0.8290 - val_loss: 0.6626 - val_acc: 0.7120\n",
            "Epoch 7/10\n",
            " 99/100 [============================>.] - ETA: 0s - loss: 0.2947 - acc: 0.8803Epoch 1/10\n",
            "100/100 [==============================] - 108s 1s/step - loss: 0.2957 - acc: 0.8800 - val_loss: 0.6434 - val_acc: 0.7440\n",
            "Epoch 8/10\n",
            " 99/100 [============================>.] - ETA: 0s - loss: 0.2394 - acc: 0.9010Epoch 1/10\n",
            "100/100 [==============================] - 108s 1s/step - loss: 0.2385 - acc: 0.9020 - val_loss: 0.7895 - val_acc: 0.7500\n",
            "Epoch 9/10\n",
            " 99/100 [============================>.] - ETA: 0s - loss: 0.1910 - acc: 0.9283Epoch 1/10\n",
            "100/100 [==============================] - 108s 1s/step - loss: 0.1906 - acc: 0.9290 - val_loss: 1.4250 - val_acc: 0.7100\n",
            "Epoch 10/10\n",
            " 99/100 [============================>.] - ETA: 0s - loss: 0.1585 - acc: 0.9424Epoch 1/10\n",
            "100/100 [==============================] - 109s 1s/step - loss: 0.1571 - acc: 0.9430 - val_loss: 0.9962 - val_acc: 0.7480\n"
          ],
          "name": "stdout"
        }
      ]
    },
    {
      "cell_type": "code",
      "metadata": {
        "id": "tcYxi1Yfft46",
        "colab_type": "code",
        "outputId": "b6926d0c-f36b-4c38-fd33-95a510545e2b",
        "colab": {
          "base_uri": "https://localhost:8080/",
          "height": 555
        }
      },
      "source": [
        "history.history"
      ],
      "execution_count": 0,
      "outputs": [
        {
          "output_type": "execute_result",
          "data": {
            "text/plain": [
              "{'acc': [0.694,\n",
              "  0.735,\n",
              "  0.755,\n",
              "  0.7775,\n",
              "  0.8025,\n",
              "  0.829,\n",
              "  0.88,\n",
              "  0.902,\n",
              "  0.929,\n",
              "  0.943],\n",
              " 'loss': [0.6047896870970726,\n",
              "  0.5384573778510093,\n",
              "  0.5122628858685494,\n",
              "  0.46792157664895057,\n",
              "  0.41820539712905885,\n",
              "  0.3846040679514408,\n",
              "  0.2957151842862368,\n",
              "  0.23847248895093798,\n",
              "  0.1906034460105002,\n",
              "  0.1570982608385384],\n",
              " 'val_acc': [0.692, 0.68, 0.734, 0.74, 0.718, 0.712, 0.744, 0.75, 0.71, 0.748],\n",
              " 'val_loss': [0.5894771057367325,\n",
              "  0.6021558213233947,\n",
              "  0.5447690683603287,\n",
              "  0.5340589296817779,\n",
              "  0.7434832364320755,\n",
              "  0.662553243637085,\n",
              "  0.6434231245517731,\n",
              "  0.7894899493455887,\n",
              "  1.4250065910816192,\n",
              "  0.9961918732523918]}"
            ]
          },
          "metadata": {
            "tags": []
          },
          "execution_count": 68
        }
      ]
    },
    {
      "cell_type": "code",
      "metadata": {
        "id": "b68YdMV8rfML",
        "colab_type": "code",
        "outputId": "240b91bd-e81d-4fd2-8abf-2f8937efe555",
        "colab": {
          "base_uri": "https://localhost:8080/",
          "height": 300
        }
      },
      "source": [
        "plt.plot(history.history['loss'])\n",
        "plt.plot(history.history['val_loss'])\n",
        "plt.legend()"
      ],
      "execution_count": 0,
      "outputs": [
        {
          "output_type": "stream",
          "text": [
            "No handles with labels found to put in legend.\n"
          ],
          "name": "stderr"
        },
        {
          "output_type": "execute_result",
          "data": {
            "text/plain": [
              "<matplotlib.legend.Legend at 0x7f7c8333e828>"
            ]
          },
          "metadata": {
            "tags": []
          },
          "execution_count": 72
        },
        {
          "output_type": "display_data",
          "data": {
            "image/png": "[encoded data removed]",
            "text/plain": [
              "<Figure size 432x288 with 1 Axes>"
            ]
          },
          "metadata": {
            "tags": []
          }
        }
      ]
    },
    {
      "cell_type": "code",
      "metadata": {
        "id": "LevWeX_Sr5ue",
        "colab_type": "code",
        "colab": {}
      },
      "source": [
        "!mkdir models"
      ],
      "execution_count": 0,
      "outputs": []
    },
    {
      "cell_type": "code",
      "metadata": {
        "id": "q_OT0UeI4psm",
        "colab_type": "code",
        "colab": {}
      },
      "source": [
        "model.save('models/dogs_cats1.h5')"
      ],
      "execution_count": 0,
      "outputs": []
    }
  ]
}